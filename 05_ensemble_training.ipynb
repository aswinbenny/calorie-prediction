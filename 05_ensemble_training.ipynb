{
 "cells": [
  {
   "cell_type": "markdown",
   "id": "c11f4f0f",
   "metadata": {},
   "source": [
    "### Import Required Libraries"
   ]
  },
  {
   "cell_type": "code",
   "execution_count": 1,
   "id": "97763cc8",
   "metadata": {},
   "outputs": [],
   "source": [
    "import warnings\n",
    "warnings.filterwarnings(\"ignore\")\n",
    "\n",
    "import pandas as pd\n",
    "import numpy as np\n",
    "from sklearn.metrics import mean_squared_error, mean_absolute_error, r2_score\n",
    "from sklearn.linear_model import Ridge, ElasticNet\n",
    "from sklearn.ensemble import ExtraTreesRegressor, StackingRegressor\n",
    "from xgboost import XGBRegressor\n",
    "from lightgbm import LGBMRegressor\n",
    "from catboost import CatBoostRegressor\n",
    "from sklearn.model_selection import KFold\n",
    "import joblib\n",
    "\n",
    "pd.set_option('display.max_colwidth', None)  \n",
    "pd.set_option('display.max_rows', None)   \n",
    "pd.set_option('display.max_columns', None)\n",
    "\n",
    "from utils.data_prep import load_and_prepare_data\n",
    "from utils.pipeline_create import create_pipeline"
   ]
  },
  {
   "cell_type": "markdown",
   "id": "d0114a0d",
   "metadata": {},
   "source": [
    "### Preparing and loading the data for modelling"
   ]
  },
  {
   "cell_type": "code",
   "execution_count": 2,
   "id": "b9a74820",
   "metadata": {},
   "outputs": [],
   "source": [
    "data = load_and_prepare_data()\n",
    "\n",
    "X_train = data['X_train']\n",
    "X_val = data['X_val1']\n",
    "X_test = data['X_val2']\n",
    "y_train = data['y_train']\n",
    "y_val = data['y_val1']\n",
    "y_test = data['y_val2']\n",
    "\n",
    "\n",
    "features = data['features']\n",
    "linear_features = features['linear']['num'] + features['linear']['cat']\n",
    "other_features = features['other']['num'] + features['other']['cat']"
   ]
  },
  {
   "cell_type": "code",
   "execution_count": 3,
   "id": "15583bff",
   "metadata": {},
   "outputs": [
    {
     "name": "stdout",
     "output_type": "stream",
     "text": [
      "RMSE of Baseline Model: 0.9585047480524229\n"
     ]
    }
   ],
   "source": [
    "# Predict the mean of training target as baseline for all validation samples\n",
    "baseline_pred = [y_train.mean()] * len(y_test)\n",
    "\n",
    "# Calculate RMSE of the baseline predictions\n",
    "rmse_baseline = np.sqrt(mean_squared_error(y_test, baseline_pred))\n",
    "\n",
    "print(f\"RMSE of Baseline Model: {rmse_baseline}\")"
   ]
  },
  {
   "cell_type": "markdown",
   "id": "a1237b6c",
   "metadata": {},
   "source": [
    "## Model Building"
   ]
  },
  {
   "cell_type": "code",
   "execution_count": 4,
   "id": "6993e6a5",
   "metadata": {},
   "outputs": [],
   "source": [
    "# Best parameters found by Optuna\n",
    "model_names = ['ridge', 'extratrees', 'xgboost', 'lightgbm', 'catboost']\n",
    "\n",
    "models = [Ridge, ExtraTreesRegressor, XGBRegressor, LGBMRegressor, CatBoostRegressor]\n",
    "\n",
    "params = [\n",
    "    {'alpha': 0.0002762284437551006, 'solver': 'sag', 'fit_intercept': True, 'tol': 0.00013031761354747614},\n",
    "    {'n_estimators': 326, 'max_depth': 24, 'min_samples_split': 10, 'min_samples_leaf': 1, 'max_features': 'log2', 'bootstrap': False},\n",
    "    {'n_estimators': 683, 'learning_rate': 0.05710400944032593, 'max_depth': 7, 'subsample': 0.8708501983892822, 'colsample_bytree': 0.5990353703327878, 'reg_alpha': 3.254066913534751, 'reg_lambda': 0.01593621652838458, 'min_child_weight': 2, 'gamma': 0.0009536580000644827, 'booster': 'gbtree'},\n",
    "    {'max_depth': 12, 'num_leaves': 99, 'n_estimators': 491, 'learning_rate': 0.05954360974397409, 'min_child_samples': 21, 'subsample': 0.5066852407414704, 'colsample_bytree': 0.8619994805735846, 'reg_alpha': 3.595735178870403, 'reg_lambda': 1.24462626575653,  'verbose': -1},\n",
    "    {'bootstrap_type': 'Bernoulli', 'iterations': 406, 'learning_rate': 0.028763633853386924, 'depth': 10, 'l2_leaf_reg': 11.869905054427921, 'border_count': 125, 'random_strength': 7.610826130799793, 'grow_policy': 'Depthwise', 'verbose': False}\n",
    "]"
   ]
  },
  {
   "cell_type": "code",
   "execution_count": 5,
   "id": "281e15f5",
   "metadata": {},
   "outputs": [],
   "source": [
    "# Create the pipelines for each model\n",
    "pipeline_dict = {}\n",
    "for model_name, model, param in zip(model_names, models, params):\n",
    "    pipeline = create_pipeline(model_name, model, param, features)\n",
    "    pipeline_dict[model_name] = pipeline"
   ]
  },
  {
   "cell_type": "code",
   "execution_count": 6,
   "id": "41bef466",
   "metadata": {},
   "outputs": [],
   "source": [
    "# making sure the validation set is included in the training set for stacking\n",
    "X = pd.concat([X_train, X_val], axis=0)\n",
    "y = pd.concat([y_train, y_val], axis=0)"
   ]
  },
  {
   "cell_type": "code",
   "execution_count": 7,
   "id": "b80d4583",
   "metadata": {},
   "outputs": [
    {
     "name": "stdout",
     "output_type": "stream",
     "text": [
      "fitted model\n"
     ]
    }
   ],
   "source": [
    "# Create a stacking regressor with the specified models and parameters\n",
    "params = {'alpha': 0.0007174822830545591, 'l1_ratio': 0.658029960276858, 'fit_intercept': True, 'tol': 0.00010062095710653478, 'max_iter': 8792, 'selection': 'cyclic'}\n",
    "\n",
    "meta_model = ElasticNet(**params)\n",
    "\n",
    "final_stack = StackingRegressor(\n",
    "    estimators=[\n",
    "        ('ridge', pipeline_dict['ridge']),\n",
    "        ('extratrees', pipeline_dict['extratrees']),\n",
    "        ('xgboost', pipeline_dict['xgboost']),\n",
    "        ('catboost', pipeline_dict['catboost']),\n",
    "        ('lightgbm', pipeline_dict['lightgbm']),\n",
    "    ],\n",
    "    final_estimator=meta_model,\n",
    "    passthrough=False,\n",
    "    cv=KFold(n_splits=5, shuffle=True, random_state=42),\n",
    "    n_jobs=1\n",
    ")\n",
    "final_stack.fit(X, y)\n",
    "print(\"fitted model\")"
   ]
  },
  {
   "cell_type": "markdown",
   "id": "3174dbe3",
   "metadata": {},
   "source": [
    "### Model Performance Evaluation"
   ]
  },
  {
   "cell_type": "code",
   "execution_count": 9,
   "id": "ccd8d28a",
   "metadata": {},
   "outputs": [
    {
     "name": "stdout",
     "output_type": "stream",
     "text": [
      "Model Evaluation:\n",
      "RMSE: 0.059799511117813633\n",
      "MAE: 0.0338187873366706\n",
      "R2: 0.9961076947608092\n"
     ]
    }
   ],
   "source": [
    "# Predict on the test set\n",
    "y_pred = final_stack.predict(X_test)\n",
    "print(\"Model Evaluation:\")\n",
    "print(f\"RMSE: {np.sqrt(mean_squared_error(y_test, y_pred))}\")\n",
    "print(f\"MAE: {mean_absolute_error(y_test, y_pred)}\")\n",
    "print(f\"R2: {r2_score(y_test, y_pred)}\")"
   ]
  }
 ],
 "metadata": {
  "kernelspec": {
   "display_name": "Python 3",
   "language": "python",
   "name": "python3"
  },
  "language_info": {
   "codemirror_mode": {
    "name": "ipython",
    "version": 3
   },
   "file_extension": ".py",
   "mimetype": "text/x-python",
   "name": "python",
   "nbconvert_exporter": "python",
   "pygments_lexer": "ipython3",
   "version": "3.10.13"
  }
 },
 "nbformat": 4,
 "nbformat_minor": 5
}
